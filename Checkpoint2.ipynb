{
 "cells": [
  {
   "cell_type": "markdown",
   "id": "282b664b",
   "metadata": {},
   "source": [
    "1-Write a Python program that accepts the user's first and last name, and prints them in reverse order with a space between them."
   ]
  },
  {
   "cell_type": "code",
   "execution_count": 8,
   "id": "c9ba23ff",
   "metadata": {
    "scrolled": true
   },
   "outputs": [
    {
     "name": "stdout",
     "output_type": "stream",
     "text": [
      "First Name: Keltoum\n",
      "Last Name: Mouttaki\n",
      "Hello  Keltoum  Mouttaki\n"
     ]
    },
    {
     "data": {
      "text/plain": [
       "''"
      ]
     },
     "execution_count": 8,
     "metadata": {},
     "output_type": "execute_result"
    }
   ],
   "source": [
    "fname=input(\"First Name:\")\n",
    "lname=input(\"Last Name:\")\n",
    "input(f\"Hello {fname} {lname}\")"
   ]
  },
  {
   "cell_type": "markdown",
   "id": "fc24da72",
   "metadata": {},
   "source": [
    "2-Write a Python program that accepts an integer (n) and computes the value of n+nn+nnn.\n",
    "\n",
    "The sample value of n is 5.\n",
    "\n",
    "Expected Result: 615 (5+55+555)"
   ]
  },
  {
   "cell_type": "code",
   "execution_count": 7,
   "id": "94624b6b",
   "metadata": {},
   "outputs": [
    {
     "name": "stdout",
     "output_type": "stream",
     "text": [
      "The value of: 5 + 55 + 555 = 615\n"
     ]
    }
   ],
   "source": [
    "n=5\n",
    "strnum=str(n)\n",
    "strnum1=strnum + strnum\n",
    "strnum2=strnum + strnum + strnum\n",
    "intnum1=int(strnum1)\n",
    "intnum2=int(strnum2)\n",
    "resultval= n+intnum1+intnum2\n",
    "print(\"The value of:\", strnum, \"+\", strnum1, \"+\", strnum2, \"=\", resultval)"
   ]
  },
  {
   "cell_type": "markdown",
   "id": "a4dd8421",
   "metadata": {},
   "source": [
    "3-Write a Python program to find whether a given number (accept from the user) is even or odd, and print out an appropriate message to the user.\n"
   ]
  },
  {
   "cell_type": "code",
   "execution_count": 11,
   "id": "01eda8ce",
   "metadata": {},
   "outputs": [
    {
     "name": "stdout",
     "output_type": "stream",
     "text": [
      "Enter a number: 45663\n",
      "45663 is Odd\n"
     ]
    }
   ],
   "source": [
    "num = int(input(\"Enter a number: \"))\n",
    "if (num % 2) == 0:\n",
    "   print(\"{0} is Even\".format(num))\n",
    "else:\n",
    "   print(\"{0} is Odd\".format(num))"
   ]
  },
  {
   "cell_type": "markdown",
   "id": "486ddea9",
   "metadata": {},
   "source": [
    "4-Write a program which will find all such numbers which are divisible by 7 but are not a multiple of 5, between 2000 and 3200 (both included). The numbers obtained should be printed in a sequence on a single line.\n",
    "\n",
    "Hints: Consider use range(#begin, #end) method "
   ]
  },
  {
   "cell_type": "code",
   "execution_count": 28,
   "id": "66fd1b1c",
   "metadata": {},
   "outputs": [
    {
     "name": "stdout",
     "output_type": "stream",
     "text": [
      "[2002, 2009, 2016, 2023, 2037, 2044, 2051, 2058, 2072, 2079, 2086, 2093, 2107, 2114, 2121, 2128, 2142, 2149, 2156, 2163, 2177, 2184, 2191, 2198, 2212, 2219, 2226, 2233, 2247, 2254, 2261, 2268, 2282, 2289, 2296, 2303, 2317, 2324, 2331, 2338, 2352, 2359, 2366, 2373, 2387, 2394, 2401, 2408, 2422, 2429, 2436, 2443, 2457, 2464, 2471, 2478, 2492, 2499, 2506, 2513, 2527, 2534, 2541, 2548, 2562, 2569, 2576, 2583, 2597, 2604, 2611, 2618, 2632, 2639, 2646, 2653, 2667, 2674, 2681, 2688, 2702, 2709, 2716, 2723, 2737, 2744, 2751, 2758, 2772, 2779, 2786, 2793, 2807, 2814, 2821, 2828, 2842, 2849, 2856, 2863, 2877, 2884, 2891, 2898, 2912, 2919, 2926, 2933, 2947, 2954, 2961, 2968, 2982, 2989, 2996, 3003, 3017, 3024, 3031, 3038, 3052, 3059, 3066, 3073, 3087, 3094, 3101, 3108, 3122, 3129, 3136, 3143, 3157, 3164, 3171, 3178, 3192, 3199]\n"
     ]
    }
   ],
   "source": [
    "n1=[]\n",
    "for x in range(2000, 3200):\n",
    "    if (x%7==0) and (x%5!=0):\n",
    "        n1.append(x)\n",
    "print(n1)"
   ]
  },
  {
   "cell_type": "markdown",
   "id": "b4549d71",
   "metadata": {},
   "source": [
    "5-Write a program that can compute the factorial of a given number. The results should be printed in a sequence on a single line. Suppose the following input is supplied to the program: 8. Then, the output should be: 40320 \n",
    "\n",
    "Hint: The factorial function (symbol: !) multiplies all whole numbers from our chosen number down to 1. Examples: \n",
    "\n",
    "4! = 4 × 3 × 2 × 1\n",
    "\n",
    "8! = 8 × 7 × 6 × 5 × 4 × 3 × 2 × 1\n",
    "\n",
    "1! = 1\n",
    "\n",
    "0! = 1 (by convention)"
   ]
  },
  {
   "cell_type": "code",
   "execution_count": 38,
   "id": "92f1384c",
   "metadata": {},
   "outputs": [
    {
     "name": "stdout",
     "output_type": "stream",
     "text": [
      "Factorial of 8 is 40320\n"
     ]
    }
   ],
   "source": [
    "def factorial(n):\n",
    "    if n == 0:\n",
    "        return 1\n",
    "    return n * factorial(n-1)\n",
    "num = 8;\n",
    "print(\"Factorial of\", num, \"is\",factorial(num))"
   ]
  },
  {
   "cell_type": "markdown",
   "id": "b59f3901",
   "metadata": {},
   "source": [
    "6-Write a program to remove the characters which have odd index values of a given string.\n",
    "\n",
    "For example: string =\"hello team\"\n",
    "\n",
    "The result should be: hlota"
   ]
  },
  {
   "cell_type": "code",
   "execution_count": 40,
   "id": "df1f4919",
   "metadata": {},
   "outputs": [
    {
     "name": "stdout",
     "output_type": "stream",
     "text": [
      "Wloe\n",
      "WrdZ\n"
     ]
    }
   ],
   "source": [
    "def odd_values_string(str):\n",
    "  result = \"\" \n",
    "  for i in range(len(str)):\n",
    "    if i % 2 == 0:\n",
    "      result = result + str[i]\n",
    "  return result\n",
    "\n",
    "print(odd_values_string('Welcome'))\n",
    "print(odd_values_string('World Z'))"
   ]
  },
  {
   "cell_type": "markdown",
   "id": "dc609909",
   "metadata": {},
   "source": [
    "7-In this challenge, you must discount a price according to its value.\n",
    "\n",
    "- If the price is 500 or above, there will be a 50% discount.\n",
    "\n",
    "- If the price is between 200 and 500 (200 inclusive), there will be a 30% discount.\n",
    "\n",
    "- If the price is less than 200, there will be a 10% discount."
   ]
  },
  {
   "cell_type": "code",
   "execution_count": 61,
   "id": "2a1578a4",
   "metadata": {},
   "outputs": [
    {
     "name": "stdout",
     "output_type": "stream",
     "text": [
      "100\n",
      "90.0\n"
     ]
    }
   ],
   "source": [
    "x = int(input())\n",
    "if x >=500:\n",
    "    print(x * 0.5) \n",
    "elif x >=200 and x <500:\n",
    "    print(x - (x * 0.3))\n",
    "else: print(x-(x * 0.1))\n"
   ]
  }
 ],
 "metadata": {
  "kernelspec": {
   "display_name": "Python 3 (ipykernel)",
   "language": "python",
   "name": "python3"
  },
  "language_info": {
   "codemirror_mode": {
    "name": "ipython",
    "version": 3
   },
   "file_extension": ".py",
   "mimetype": "text/x-python",
   "name": "python",
   "nbconvert_exporter": "python",
   "pygments_lexer": "ipython3",
   "version": "3.9.13"
  }
 },
 "nbformat": 4,
 "nbformat_minor": 5
}
