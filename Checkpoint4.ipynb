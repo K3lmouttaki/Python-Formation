{
 "cells": [
  {
   "cell_type": "markdown",
   "id": "5a4c5fcc",
   "metadata": {},
   "source": [
    "To create a calculator app that can perform basic arithmetic operations.\n",
    "\n",
    "Description: \n",
    "\n",
    "This exercise involves creating a simple calculator app using Python. The app should be able to perform addition, subtraction, multiplication, and division operations. It will prompt the user to input two numbers and an arithmetic operator, then perform the corresponding operation on the numbers and return the result.\n",
    "\n",
    "Example :\n",
    "\n",
    "Input:\n",
    "\n",
    "Enter the first number: 10\n",
    "\n",
    "Enter the second number: 5\n",
    "\n",
    "Enter the operator (+, -, *, /): *\n",
    "\n",
    "Output:\n",
    "\n",
    "The result is: 50"
   ]
  },
  {
   "cell_type": "markdown",
   "id": "1c81fc5b",
   "metadata": {},
   "source": [
    "1-Open a new Python file in your preferred code editor.\n",
    "2-Define a function called \"calculator\" that takes two arguments, \"num1\" and \"num2\".\n",
    "3-Within the function, prompt the user to enter an operator (+, -, *, /).\n",
    "4-Use conditional statements to determine which operation to perform based on the user's input.\n",
    "5-Return the result of the operation.\n",
    "6-Call the function calculator with two numbers and print the result.\n",
    "7-Handle cases where the user inputs invalid operators or tries to divide by zero."
   ]
  },
  {
   "cell_type": "code",
   "execution_count": null,
   "id": "bde339e8",
   "metadata": {},
   "outputs": [],
   "source": [
    "calculator.py\n",
    "num1 = input('Enter your first number: ')\n",
    "num2 = input('Enter your second number: ')"
   ]
  },
  {
   "cell_type": "code",
   "execution_count": 1,
   "id": "490dab16",
   "metadata": {},
   "outputs": [
    {
     "name": "stdout",
     "output_type": "stream",
     "text": [
      "\n",
      "Please type in the math operation you would like to complete:\n",
      "+ for addition\n",
      "- for subtraction\n",
      "* for multiplication\n",
      "/ for division\n",
      "+\n",
      "Please enter the first number: 4\n",
      "Please enter the second number: 9\n",
      "4 + 9 = \n",
      "13\n",
      "\n",
      "Do you want to calculate again?\n",
      "Please type Y for YES or N for NO.\n",
      "N\n",
      "See you later.\n"
     ]
    }
   ],
   "source": [
    "def calculate():\n",
    "    operation = input('''\n",
    "Please type in the math operation you would like to complete:\n",
    "+ for addition\n",
    "- for subtraction\n",
    "* for multiplication\n",
    "/ for division\n",
    "''')\n",
    "\n",
    "    number_1 = int(input('Please enter the first number: '))\n",
    "    number_2 = int(input('Please enter the second number: '))\n",
    "\n",
    "    if operation == '+':\n",
    "        print('{} + {} = '.format(number_1, number_2))\n",
    "        print(number_1 + number_2)\n",
    "\n",
    "    elif operation == '-':\n",
    "        print('{} - {} = '.format(number_1, number_2))\n",
    "        print(number_1 - number_2)\n",
    "\n",
    "    elif operation == '*':\n",
    "        print('{} * {} = '.format(number_1, number_2))\n",
    "        print(number_1 * number_2)\n",
    "\n",
    "    elif operation == '/':\n",
    "        print('{} / {} = '.format(number_1, number_2))\n",
    "        print(number_1 / number_2)\n",
    "\n",
    "    else:\n",
    "        print('You have not typed a valid operator, please run the program again.')\n",
    "\n",
    "    # Add again() function to calculate() function\n",
    "    again()\n",
    "\n",
    "def again():\n",
    "    calc_again = input('''\n",
    "Do you want to calculate again?\n",
    "Please type Y for YES or N for NO.\n",
    "''')\n",
    "\n",
    "    if calc_again.upper() == 'Y':\n",
    "        calculate()\n",
    "    elif calc_again.upper() == 'N':\n",
    "        print('See you later.')\n",
    "    else:\n",
    "        again()\n",
    "\n",
    "calculate()"
   ]
  },
  {
   "cell_type": "code",
   "execution_count": null,
   "id": "e18e42fd",
   "metadata": {},
   "outputs": [],
   "source": []
  }
 ],
 "metadata": {
  "kernelspec": {
   "display_name": "Python 3 (ipykernel)",
   "language": "python",
   "name": "python3"
  },
  "language_info": {
   "codemirror_mode": {
    "name": "ipython",
    "version": 3
   },
   "file_extension": ".py",
   "mimetype": "text/x-python",
   "name": "python",
   "nbconvert_exporter": "python",
   "pygments_lexer": "ipython3",
   "version": "3.9.13"
  }
 },
 "nbformat": 4,
 "nbformat_minor": 5
}
