{
 "cells": [
  {
   "cell_type": "markdown",
   "id": "e632b9c5",
   "metadata": {},
   "source": []
  },
  {
   "cell_type": "code",
   "execution_count": 2,
   "id": "a4ec6ce8",
   "metadata": {},
   "outputs": [
    {
     "name": "stdout",
     "output_type": "stream",
     "text": [
      "Enter the number of students: 3\n",
      "Enter the number of subjects: 4\n",
      "For student 1:\n",
      "Enter marks for subject 1: 98\n",
      "Enter marks for subject 2: 74\n",
      "Enter marks for subject 3: 56\n",
      "Enter marks for subject 4: 67\n",
      "For student 2:\n",
      "Enter marks for subject 1: 74\n",
      "Enter marks for subject 2: 85\n",
      "Enter marks for subject 3: 34\n",
      "Enter marks for subject 4: 68\n",
      "For student 3:\n",
      "Enter marks for subject 1: 99\n",
      "Enter marks for subject 2: 45\n",
      "Enter marks for subject 3: 68\n",
      "Enter marks for subject 4: 199\n",
      "\n",
      "Student\tTotal Marks\tPercentage\tGrade\n",
      "1\t295.0\t\t73.75\t\tB+\n",
      "2\t261.0\t\t65.25\t\tB\n",
      "3\t411.0\t\t102.75\t\tA+\n"
     ]
    }
   ],
   "source": [
    "import numpy as np\n",
    "\n",
    "num_students = int(input(\"Enter the number of students: \"))\n",
    "num_subjects = int(input(\"Enter the number of subjects: \"))\n",
    "\n",
    "marks = np.zeros((num_students, num_subjects))\n",
    "\n",
    "for i in range(num_students):\n",
    "    print(f\"For student {i+1}:\")\n",
    "    for j in range(num_subjects):\n",
    "        marks[i][j] = float(input(f\"Enter marks for subject {j+1}: \"))\n",
    "\n",
    "total_marks = np.sum(marks, axis=1)\n",
    "percentage = (total_marks / (num_subjects * 100)) * 100\n",
    "\n",
    "grades = []\n",
    "for p in percentage:\n",
    "    if p >= 90:\n",
    "        grades.append('A+')\n",
    "    elif p >= 80:\n",
    "        grades.append('A')\n",
    "    elif p >= 70:\n",
    "        grades.append('B+')\n",
    "    elif p >= 60:\n",
    "        grades.append('B')\n",
    "    elif p >= 50:\n",
    "        grades.append('C')\n",
    "    else:\n",
    "        grades.append('F')\n",
    "print()\n",
    "print(\"Student\\tTotal Marks\\tPercentage\\tGrade\")\n",
    "for i in range(num_students):\n",
    "    print(f\"{i+1}\\t{total_marks[i]}\\t\\t{percentage[i]:.2f}\\t\\t{grades[i]}\")"
   ]
  },
  {
   "cell_type": "code",
   "execution_count": null,
   "id": "897031a2",
   "metadata": {},
   "outputs": [],
   "source": []
  }
 ],
 "metadata": {
  "kernelspec": {
   "display_name": "Python 3 (ipykernel)",
   "language": "python",
   "name": "python3"
  },
  "language_info": {
   "codemirror_mode": {
    "name": "ipython",
    "version": 3
   },
   "file_extension": ".py",
   "mimetype": "text/x-python",
   "name": "python",
   "nbconvert_exporter": "python",
   "pygments_lexer": "ipython3",
   "version": "3.9.13"
  }
 },
 "nbformat": 4,
 "nbformat_minor": 5
}
