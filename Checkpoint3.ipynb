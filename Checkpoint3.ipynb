{
 "cells": [
  {
   "cell_type": "markdown",
   "id": "9186a079",
   "metadata": {},
   "source": [
    "1-Write a Python program that multiplies all the items in a list.\n",
    "\n",
    "Sample list= [2, 3, 6]\n",
    "\n",
    "Result = 36"
   ]
  },
  {
   "cell_type": "code",
   "execution_count": 1,
   "id": "0f30dc23",
   "metadata": {},
   "outputs": [
    {
     "name": "stdout",
     "output_type": "stream",
     "text": [
      "36\n"
     ]
    }
   ],
   "source": [
    "def multiply_list(items):\n",
    "    tot = 1\n",
    "    for x in items:\n",
    "        tot *= x\n",
    "    return tot\n",
    "print(multiply_list([2,3,6]))"
   ]
  },
  {
   "cell_type": "markdown",
   "id": "4e951cfc",
   "metadata": {},
   "source": [
    "2-Write a Python program to get a list, sorted in increasing order by the last element in each tuple, from a given list of non-empty tuples.\n",
    "\n",
    "Sample List : [(2, 5), (1, 2), (4, 4), (2, 3), (2, 1)]\n",
    "\n",
    "Expected result : [(2, 1), (1, 2), (2, 3), (4, 4), (2, 5)]\n",
    "\n",
    "Hint: You can use the sort function."
   ]
  },
  {
   "cell_type": "code",
   "execution_count": 3,
   "id": "52ddc6b6",
   "metadata": {},
   "outputs": [
    {
     "name": "stdout",
     "output_type": "stream",
     "text": [
      "[(2, 1), (1, 2), (2, 3), (4, 4), (2, 5)]\n"
     ]
    }
   ],
   "source": [
    "def last(n): return n[-1]\n",
    "\n",
    "def sort_list_last(tuples):\n",
    "  return sorted(tuples, key=last)\n",
    "\n",
    "print(sort_list_last([(2, 5), (1, 2), (4, 4), (2, 3), (2, 1)]))"
   ]
  },
  {
   "cell_type": "markdown",
   "id": "199ae874",
   "metadata": {},
   "source": [
    "3-Write a Python program that combines two dictionaries by adding values for common keys.\n",
    "\n",
    "d1 = {'a': 100, 'b': 200, 'c':300}\n",
    "\n",
    "d2 = {'a': 300, 'b': 200, 'd':400}\n",
    "\n",
    "Expected result: {'a': 400, 'b': 400, 'd': 400, 'c': 300}"
   ]
  },
  {
   "cell_type": "code",
   "execution_count": 3,
   "id": "50ee8c80",
   "metadata": {},
   "outputs": [
    {
     "name": "stdout",
     "output_type": "stream",
     "text": [
      "Counter({'a': 400, 'b': 400, 'd': 400, 'c': 300})\n"
     ]
    }
   ],
   "source": [
    "from collections import Counter\n",
    "d1 = {'a': 100, 'b': 200, 'c':300}\n",
    "d2 = {'a': 300, 'b': 200, 'd':400}\n",
    "d = Counter(d1) + Counter(d2)\n",
    "print(d)"
   ]
  },
  {
   "cell_type": "markdown",
   "id": "77380020",
   "metadata": {},
   "source": [
    "4-With a given integral number n, write a program to generate a dictionary that contains (i, i*i) so that is an integral number between 1 and n (both included). Then the program should print the dictionary. Suppose the following input is supplied to the program: 8. Then, the output should be: {1: 1, 2: 4, 3: 9, 4: 16, 5: 25, 6: 36, 7: 49, 8: 64}"
   ]
  },
  {
   "cell_type": "code",
   "execution_count": 4,
   "id": "bcebbca0",
   "metadata": {},
   "outputs": [
    {
     "name": "stdout",
     "output_type": "stream",
     "text": [
      "Type a number: 8\n",
      "{1: 1, 2: 4, 3: 9, 4: 16, 5: 25, 6: 36, 7: 49, 8: 64}\n"
     ]
    }
   ],
   "source": [
    "number = int(input(\"Type a number: \"))\n",
    "\n",
    "numberDict = {}\n",
    "for i in range(1, number+1):\n",
    "    numberDict[i] = i*i\n",
    "\n",
    "print(numberDict)"
   ]
  },
  {
   "cell_type": "markdown",
   "id": "042a042f",
   "metadata": {},
   "source": [
    "5-Write a program to sort a tuple by its float element.\n",
    "\n",
    "For example: list= [('item1', '12.20'), ('item2', '15.10'), ('item3', '24.5')]\n",
    "\n",
    "Expected result: [('item3', '24.5'), ('item2', '15.10'), ('item1', '12.20')]"
   ]
  },
  {
   "cell_type": "code",
   "execution_count": 2,
   "id": "c13073a8",
   "metadata": {
    "scrolled": true
   },
   "outputs": [
    {
     "name": "stdout",
     "output_type": "stream",
     "text": [
      "[('item3', '24.5'), ('item2', '15.10'), ('item1', '12.20')]\n"
     ]
    }
   ],
   "source": [
    "price = [('item1', '12.20'), ('item2', '15.10'), ('item3', '24.5')]\n",
    "print( sorted(price, key=lambda x: float(x[1]), reverse=True))"
   ]
  },
  {
   "cell_type": "markdown",
   "id": "2635cc97",
   "metadata": {},
   "source": [
    "6-Write a Python program to create a set.\n",
    "\n",
    "Examples : {0, 1, 2, 3, 4}\n",
    "\n",
    "Write a Python program to iteration over sets.\n",
    "\n",
    "Write a Python program to add members in a set and to remove items from a given set."
   ]
  },
  {
   "cell_type": "code",
   "execution_count": 3,
   "id": "2b9e5eed",
   "metadata": {},
   "outputs": [
    {
     "name": "stdout",
     "output_type": "stream",
     "text": [
      "{0, 1, 2, 3, 4, 5}\n",
      "{1, 2, 3, 4, 5}\n"
     ]
    }
   ],
   "source": [
    "my_set={0,1,2,3,4}\n",
    "my_set.add(5)\n",
    "print(my_set)\n",
    "my_set.remove(0)\n",
    "print(my_set)"
   ]
  }
 ],
 "metadata": {
  "kernelspec": {
   "display_name": "Python 3 (ipykernel)",
   "language": "python",
   "name": "python3"
  },
  "language_info": {
   "codemirror_mode": {
    "name": "ipython",
    "version": 3
   },
   "file_extension": ".py",
   "mimetype": "text/x-python",
   "name": "python",
   "nbconvert_exporter": "python",
   "pygments_lexer": "ipython3",
   "version": "3.9.13"
  }
 },
 "nbformat": 4,
 "nbformat_minor": 5
}
