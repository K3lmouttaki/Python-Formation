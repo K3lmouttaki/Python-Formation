{
 "cells": [
  {
   "cell_type": "markdown",
   "id": "ffd4a308",
   "metadata": {},
   "source": [
    "Write a Python class named Point3D defined by x, y, and z. Define a method that returns (x, y ,z). This tells Python to represent this object in the following format: (x, y, z). Then create a variable named my_point containing a new instance of Point3D with x=1, y=2, and z=3 and print it."
   ]
  },
  {
   "cell_type": "code",
   "execution_count": 7,
   "id": "96f6e670",
   "metadata": {},
   "outputs": [
    {
     "name": "stdout",
     "output_type": "stream",
     "text": [
      "(1, 2, 3)\n"
     ]
    }
   ],
   "source": [
    "\n",
    "class Point3D(object):\n",
    "    def __init__(self, x, y, z):\n",
    "        self.x = x\n",
    "        self.y = y\n",
    "        self.z = z\n",
    "    def __repr__(self):\n",
    "        return \"(%d, %d, %d)\" % (self.x, self.y, self.z)\n",
    "        \n",
    "my_point = Point3D(1,2,3)\n",
    "\n",
    "print my_point"
   ]
  },
  {
   "cell_type": "markdown",
   "id": "3b9f0073",
   "metadata": {},
   "source": [
    "Write a Python class named Rectangle constructed by a length and width. Define two methods, area and perimeter, which will compute the area and the perimeter of the rectangle. Then create a variable named my_rectangle containing a new instance of Rectangle with width=3 and length = 4 and compute both area and perimeter ( the area is expected to be 3*4=12 and perimeter 2*(3+4)=14)."
   ]
  },
  {
   "cell_type": "code",
   "execution_count": 13,
   "id": "6a83c08c",
   "metadata": {},
   "outputs": [
    {
     "name": "stdout",
     "output_type": "stream",
     "text": [
      "Please Enter the Length of the Rectangle: 3\n",
      "Please Enter the Width of the Rectangle: 4\n",
      "Area of Rectangle object = 12.00\n",
      "Perimeter of Rectangle object= 14.00\n"
     ]
    }
   ],
   "source": [
    "\n",
    "class Rectangle:\n",
    "        \n",
    "    def __init__(self, length, width):\n",
    "         self.length = length\n",
    "         self.width = width\n",
    "           \n",
    "    def compute_area(self):\n",
    "        return self.length * self.width\n",
    "    \n",
    "\n",
    "    def compute_perimeter(self):\n",
    "        return 2 * (self.length+self.width)\n",
    "\n",
    "\n",
    "l= float(input('Please Enter the Length of the Rectangle: '))\n",
    "w= float(input('Please Enter the Width of the Rectangle: '))\n",
    "    \n",
    "object1 = Rectangle(l,w)\n",
    "\n",
    "area = object1.compute_area()\n",
    "perimeter = object1.compute_perimeter()\n",
    "\n",
    "print(\"Area of Rectangle object = %.2f\" %area)\n",
    "print(\"Perimeter of Rectangle object= %.2f\" %perimeter)"
   ]
  },
  {
   "cell_type": "markdown",
   "id": "ab84ebb0",
   "metadata": {},
   "source": [
    "Write a Python  class named Circle constructed by its center O and radius r. Define two methods, area and perimeter, which will compute the area and the perimeter of the circle, and is Inside() method which allows you to test whether a point A(x, y) belongs to the circle C(O, r) or not."
   ]
  },
  {
   "cell_type": "code",
   "execution_count": 40,
   "id": "5f853153",
   "metadata": {
    "scrolled": true
   },
   "outputs": [
    {
     "name": "stdout",
     "output_type": "stream",
     "text": [
      "43.982297150257104\n",
      "153.93804002589985\n",
      "True\n"
     ]
    }
   ],
   "source": [
    "import math\n",
    "\n",
    "class Circle:\n",
    "    \n",
    "    def __init__(self, r, o=0):\n",
    "        self.r = r\n",
    "        self.o = o\n",
    "        \n",
    "    def compute_area(self):\n",
    "        return math.pi * self.r **2\n",
    "    \n",
    "\n",
    "    def compute_perimeter(self):\n",
    "        return 2 * math.pi * self.r\n",
    "    \n",
    "    def isinside(self,x,y):\n",
    "        d = math.sqrt((math.pow(x,2))+(math.pow(y,2)))\n",
    "        if d>self.r:\n",
    "            return False\n",
    "        else:\n",
    "            return True\n",
    "        \n",
    "circle = Circle(7,0)\n",
    "print(circle.compute_perimeter())\n",
    "print(circle.compute_area())\n",
    "print(circle.isinside(3, 4)) "
   ]
  },
  {
   "cell_type": "markdown",
   "id": "175aeb9e",
   "metadata": {},
   "source": [
    "Suppose we want to model a bank account with support for deposit and withdraw operations. Let’s create a Python class named Bank defined by its balance. Define two methods, deposit and withdraw, to compute the new amount of each operation."
   ]
  },
  {
   "cell_type": "code",
   "execution_count": 15,
   "id": "639104db",
   "metadata": {},
   "outputs": [
    {
     "name": "stdout",
     "output_type": "stream",
     "text": [
      "1000\n",
      "1500\n",
      "Insufficient funds\n",
      "1500\n",
      "1000\n"
     ]
    }
   ],
   "source": [
    "class Bank:\n",
    "    def __init__(self, balance=0):\n",
    "        self.balance = balance\n",
    "\n",
    "    def deposit(self, amount):\n",
    "        self.balance += amount\n",
    "\n",
    "    def withdraw(self, amount):\n",
    "        if amount > self.balance:\n",
    "            print(\"Insufficient funds\")\n",
    "        else:\n",
    "            self.balance -= amount\n",
    "\n",
    "my_account = Bank(1000)\n",
    "print(my_account.balance) \n",
    "my_account.deposit(500) \n",
    "print(my_account.balance) \n",
    "my_account.withdraw(2000) \n",
    "print(my_account.balance) \n",
    "my_account.withdraw(500)\n",
    "print(my_account.balance)"
   ]
  }
 ],
 "metadata": {
  "kernelspec": {
   "display_name": "Python 3 (ipykernel)",
   "language": "python",
   "name": "python3"
  },
  "language_info": {
   "codemirror_mode": {
    "name": "ipython",
    "version": 3
   },
   "file_extension": ".py",
   "mimetype": "text/x-python",
   "name": "python",
   "nbconvert_exporter": "python",
   "pygments_lexer": "ipython3",
   "version": "3.9.13"
  }
 },
 "nbformat": 4,
 "nbformat_minor": 5
}
